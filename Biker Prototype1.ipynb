{
 "cells": [
  {
   "cell_type": "code",
   "execution_count": 20,
   "outputs": [
    {
     "name": "stdout",
     "output_type": "stream",
     "text": [
      "Jij ben al klant.\n",
      "Hallo Test Test. Jij ben 18 jaar oud. Je email adres is test@test.nl met telefoonnummer 0123456789. Jouw klantnummer is: 0. None\n",
      "Jij ben een nieuwe klant.\n",
      "Hallo Test Test. Jij ben 33 jaar oud. Je email adres is test@test.nl met telefoonnummer 0123456789. Jouw klantnummer is: 1. None\n",
      "Jij ben een nieuwe klant.\n",
      "Hallo Test Test. Jij ben 38 jaar oud. Je email adres is test@test.nl met telefoonnummer 0123456789. Jouw klantnummer is: 2. None\n",
      "Jij ben een nieuwe klant.\n",
      "Hallo Test Test. Jij ben 27 jaar oud. Je email adres is test@test.nl met telefoonnummer 0123456789. Jouw klantnummer is: 3. None\n",
      "Jij ben al klant.\n",
      "Hallo Test Test. Jij ben 30 jaar oud. Je email adres is test@test.nl met telefoonnummer 0123456789. Jouw klantnummer is: 4. None\n",
      "De merk van fiest is Gazalla. Het is een dama en elec fiets.\n",
      "De merk van fiest is Test. Het is een dama en normaal fiets.\n",
      "De merk van fiest is Test. Het is een heren en normaal fiets.\n",
      "De merk van fiest is Gazalla. Het is een heren en normaal fiets.\n",
      "De merk van fiest is Gazalla. Het is een heren en elec fiets.\n",
      "Hallo Test Test. Jij ben 18 jaar oud. Je email adres is test@test.nl met telefoonnummer 0123456789. jouw salaris is 20.5. Jij werkt in Test\n",
      "Hallo Test Test. Jij ben 33 jaar oud. Je email adres is test@test.nl met telefoonnummer 0123456789. jouw salaris is 20.5. Jij werkt in Test\n",
      "Hallo Test Test. Jij ben 38 jaar oud. Je email adres is test@test.nl met telefoonnummer 0123456789. jouw salaris is 20.5. Jij werkt in Test\n",
      "Hallo Test Test. Jij ben 27 jaar oud. Je email adres is test@test.nl met telefoonnummer 0123456789. jouw salaris is 20.5. Jij werkt in Test\n",
      "Hallo Test Test. Jij ben 30 jaar oud. Je email adres is test@test.nl met telefoonnummer 0123456789. jouw salaris is 20.5. Jij werkt in Test\n",
      "Het is test1 van merk test1. OmschrijvingTest1\n",
      "Het is test2 van merk test2. OmschrijvingTest2\n",
      "Het is test2 van merk test2. OmschrijvingAccessoire2\n",
      "Het is Accessoire3 van merk Accessoire3. OmschrijvingAccessoire3\n",
      "Het is Accessoire4 van merk Accessoire4. OmschrijvingAccessoire4\n"
     ]
    }
   ],
   "source": [
    "from enum import Enum\n",
    "\n",
    "class FietsType(Enum):\n",
    "        normaal = 1\n",
    "        elec = 2\n",
    "\n",
    "class FietsSort(Enum):\n",
    "        heren = 1\n",
    "        dama = 2\n",
    "\n",
    "class Person:\n",
    "    def __init__(self, id,  firstName, lastNames, age,email, phoneNumber, password, address):\n",
    "        self.id = id\n",
    "        self.firstName = firstName\n",
    "        self.email = email\n",
    "        self.phoneNumber = phoneNumber\n",
    "        self.lastNames = lastNames\n",
    "        self.age = age\n",
    "        self.password =password\n",
    "        self.address = address\n",
    "\n",
    "\n",
    "class Klant(Person):\n",
    "    def __init__(self,id, firstName, lastNames, age,email, phoneNumber, password, address, clientnumber, isCleint):\n",
    "        super().__init__(id, firstName, lastNames, age,email, phoneNumber,password, address)\n",
    "\n",
    "        self.clientnumber = clientnumber\n",
    "        self.isCleint = isCleint\n",
    "\n",
    "class Medewerker(Person):\n",
    "    def __init__(self, id, firstName, lastNames, age,email, phoneNumber,password, address, number, salary, department):\n",
    "        super().__init__(id, firstName, lastNames, age,email, phoneNumber,password, address)\n",
    "        self.number = number\n",
    "        self.salary = salary\n",
    "        self.department = department\n",
    "\n",
    "\n",
    "class Fiets:\n",
    "    def __init__(self, id,merk, FietsType, FietsSort):\n",
    "        self.id = id\n",
    "        self.merk = merk\n",
    "        self.fietsType = FietsType\n",
    "        self.fietsSort = FietsSort\n",
    "\n",
    "class Accessoire :\n",
    "    def __init__(self, id,merk, title,  sort, description):\n",
    "        self.id = id\n",
    "        self.merk = merk\n",
    "        self.title = title\n",
    "        self.sort = sort\n",
    "        self.description = description\n",
    "\n",
    "def getKlanten():\n",
    "    return  [Klant(0, \"Test\",\"Test\",18,\"test@test.nl\",\"0123456789\",\"1234\", \"adres 1\", 0, True),\n",
    "               Klant(1, \"Test\",\"Test\",33,\"test@test.nl\",\"0123456789\", \"1234\", \"adres 1\", 1, False),\n",
    "               Klant(2, \"Test\",\"Test\",38,\"test@test.nl\",\"0123456789\", \"1234\", \"adres 1\", 2, False),\n",
    "               Klant(3, \"Test\",\"Test\",27,\"test@test.nl\",\"0123456789\", \"1234\" , \"adres 1\", 3, False),\n",
    "               Klant(4, \"Test\",\"Test\",30,\"test@test.nl\",\"0123456789\", \"1234\", \"adres 1\", 4, True),]\n",
    "\n",
    "def getMedewerkers():\n",
    "    return  [Medewerker(0, \"Test\",\"Test\",18,\"test@test.nl\",\"0123456789\",\"1234\", \"adres 1\", 0, 20.50,\"Test\"),\n",
    "               Medewerker(1, \"Test\",\"Test\",33,\"test@test.nl\",\"0123456789\", \"1234\", \"adres 1\", 1, 20.50, \"Test\"),\n",
    "               Medewerker(2, \"Test\",\"Test\",38,\"test@test.nl\",\"0123456789\", \"1234\", \"adres 1\", 2, 20.50, \"Test\"),\n",
    "               Medewerker(3, \"Test\",\"Test\",27,\"test@test.nl\",\"0123456789\", \"1234\" , \"adres 1\", 3, 20.50, \"Test\"),\n",
    "               Medewerker(4, \"Test\",\"Test\",30,\"test@test.nl\",\"0123456789\", \"1234\", \"adres 1\", 4, 20.50, \"Test\"),]\n",
    "\n",
    "def getFietsen():\n",
    "    return  [Fiets(0,\"Gazalla\", FietsType.elec, FietsSort.dama),\n",
    "               Fiets(1,\"Test\", FietsType.normaal, FietsSort.dama),\n",
    "               Fiets(2,\"Test\", FietsType.normaal, FietsSort.heren),\n",
    "               Fiets(3,\"Gazalla\", FietsType.normaal, FietsSort.heren),\n",
    "               Fiets(4,\"Gazalla\", FietsType.elec, FietsSort.heren),]\n",
    "\n",
    "\n",
    "def getAccessoires():\n",
    "\n",
    "        return  [Accessoire(0, \"test1\", \"test1\",\"test1\",\"Test1\"),\n",
    "               Accessoire(1, \"test2\", \"test2\", \"test2\",\"Test2\"),\n",
    "               Accessoire(2, \"test2\", \"test2\",\"test2\",\"Accessoire2\"),\n",
    "               Accessoire(3, \"Accessoire3\",\"Accessoire3\", \"test3\", \"Accessoire3\"),\n",
    "               Accessoire(4, \"Accessoire4\", \"Accessoire4\",\"Accessoire4\", \"Accessoire4\"),]\n",
    "\n",
    "\n",
    "def printKlantenObjecten():\n",
    "    for klant in getKlanten():\n",
    "        print(f\"Hallo {klant.firstName} {klant.lastNames}. Jij ben {klant.age} jaar oud. Je email adres is {klant.email} met telefoonnummer {klant.phoneNumber}. Jouw klantnummer is: {klant.clientnumber}. {print('Jij ben al klant.')if klant.isCleint else print('Jij ben een nieuwe klant.')}\")\n",
    "\n",
    "def printMedewerkersObjecten():\n",
    "    for medewerker in getMedewerkers():\n",
    "        print(f\"Hallo {medewerker.firstName} {medewerker.lastNames}. Jij ben {medewerker.age} jaar oud. Je email adres is {medewerker.email} met telefoonnummer {medewerker.phoneNumber}. jouw salaris is {medewerker.salary}. Jij werkt in {medewerker.department}\")\n",
    "\n",
    "\n",
    "def printfietsenObjecten():\n",
    "    for fiets in getFietsen():\n",
    "        print(f\"De merk van fiest is {fiets.merk}. Het is een {fiets.fietsSort.name} en {fiets.fietsType.name} fiets.\")\n",
    "\n",
    "def printAccessoiresObjecten():\n",
    "        #id,merk, title,  sort, description\n",
    "    for accessoire in getAccessoires():\n",
    "        print(f\"Het is {accessoire.title} van merk {accessoire.merk}. Omschrijving: {accessoire.description}\")\n",
    "\n",
    "def main():\n",
    "    printKlantenObjecten()\n",
    "    printfietsenObjecten()\n",
    "    printMedewerkersObjecten()\n",
    "    printAccessoiresObjecten()\n",
    "\n",
    "\n",
    "if __name__ == \"__main__\": main()"
   ],
   "metadata": {
    "collapsed": false,
    "pycharm": {
     "name": "#%%\n"
    }
   }
  },
  {
   "cell_type": "code",
   "execution_count": 2,
   "outputs": [],
   "source": [],
   "metadata": {
    "collapsed": false,
    "pycharm": {
     "name": "#%%\n"
    }
   }
  },
  {
   "cell_type": "code",
   "execution_count": null,
   "outputs": [],
   "source": [],
   "metadata": {
    "collapsed": false,
    "pycharm": {
     "name": "#%%\n"
    }
   }
  },
  {
   "cell_type": "code",
   "execution_count": null,
   "outputs": [],
   "source": [],
   "metadata": {
    "collapsed": false,
    "pycharm": {
     "name": "#%%\n"
    }
   }
  }
 ],
 "metadata": {
  "kernelspec": {
   "display_name": "Python 3",
   "language": "python",
   "name": "python3"
  },
  "language_info": {
   "codemirror_mode": {
    "name": "ipython",
    "version": 2
   },
   "file_extension": ".py",
   "mimetype": "text/x-python",
   "name": "python",
   "nbconvert_exporter": "python",
   "pygments_lexer": "ipython2",
   "version": "2.7.6"
  }
 },
 "nbformat": 4,
 "nbformat_minor": 0
}