{
 "cells": [
  {
   "cell_type": "code",
   "execution_count": 1,
   "outputs": [
    {
     "name": "stdout",
     "output_type": "stream",
     "text": [
      "Dit is: test1          ==> van merk test1          - Omschrijving: Test1\n",
      "Dit is: test2          ==> van merk test2          - Omschrijving: Test2\n",
      "Dit is: test2          ==> van merk test2          - Omschrijving: Accessoire2\n",
      "Dit is: Accessoire3    ==> van merk Accessoire3    - Omschrijving: Accessoire3\n",
      "Dit is: Accessoire4    ==> van merk Accessoire4    - Omschrijving: Accessoire4\n"
     ]
    }
   ],
   "source": [
    "class Accessoire :\n",
    "    def __init__(self, id, merk, title,  sort, description, size, color):\n",
    "        self.id = id\n",
    "        self.merk = merk\n",
    "        self.title = title\n",
    "        self.sort = sort\n",
    "        self.description = description\n",
    "        self.size = size\n",
    "        self.color = color\n",
    "\n",
    "def getAccessoires():\n",
    "        return  [Accessoire(0, \"test1\", \"test1\",\"test1\",\"Test1\", 33, \"gold\"),\n",
    "               Accessoire(1, \"test2\", \"test2\", \"test2\",\"Test2\", 33, \"gold\"),\n",
    "               Accessoire(2, \"test2\", \"test2\",\"test2\",\"Accessoire2\" , 33, \"gold\"),\n",
    "               Accessoire(3, \"Accessoire3\",\"Accessoire3\", \"test3\", \"Accessoire3\" , 33, \"selver\"),\n",
    "               Accessoire(4, \"Accessoire4\", \"Accessoire4\",\"Accessoire4\", \"Accessoire4\" , 33, \"gold\"),]\n",
    "\n",
    "def printAccessoiresObjecten():\n",
    "    for accessoire in getAccessoires():\n",
    "        print(f\"Dit is: {accessoire.title:15}==> van merk {accessoire.merk:15}- Omschrijving: {accessoire.description}\")\n",
    "\n",
    "def main():\n",
    "    printAccessoiresObjecten()\n",
    "\n",
    "if __name__ == \"__main__\": main()"
   ],
   "metadata": {
    "collapsed": false,
    "pycharm": {
     "name": "#%%\n"
    }
   }
  },
  {
   "cell_type": "code",
   "execution_count": null,
   "outputs": [],
   "source": [],
   "metadata": {
    "collapsed": false,
    "pycharm": {
     "name": "#%%\n"
    }
   }
  }
 ],
 "metadata": {
  "kernelspec": {
   "display_name": "Python 3",
   "language": "python",
   "name": "python3"
  },
  "language_info": {
   "codemirror_mode": {
    "name": "ipython",
    "version": 2
   },
   "file_extension": ".py",
   "mimetype": "text/x-python",
   "name": "python",
   "nbconvert_exporter": "python",
   "pygments_lexer": "ipython2",
   "version": "2.7.6"
  }
 },
 "nbformat": 4,
 "nbformat_minor": 0
}